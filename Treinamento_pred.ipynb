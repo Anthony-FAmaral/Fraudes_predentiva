{
  "nbformat": 4,
  "nbformat_minor": 0,
  "metadata": {
    "colab": {
      "provenance": []
    },
    "kernelspec": {
      "name": "python3",
      "display_name": "Python 3"
    },
    "language_info": {
      "name": "python"
    }
  },
  "cells": [
    {
      "cell_type": "markdown",
      "source": [],
      "metadata": {
        "id": "HBOY9z6INJZZ"
      }
    },
    {
      "cell_type": "markdown",
      "source": [
        "# Aprendizagem Supervisionado"
      ],
      "metadata": {
        "id": "9ecOXntZexbP"
      }
    },
    {
      "cell_type": "code",
      "execution_count": null,
      "metadata": {
        "id": "BUxQjv2D2iKd"
      },
      "outputs": [],
      "source": [
        "\n",
        "import pandas as pd #bibliotecapara manipulação de dados\n",
        "import numpy as np  #biblioteca quer ajuda em cálculos"
      ]
    },
    {
      "cell_type": "code",
      "source": [
        "#Leitura da base de dados tratada/limpa\n",
        "df = pd.read_csv(\"PS_trans.csv\")\n",
        "df.head()\n"
      ],
      "metadata": {
        "colab": {
          "base_uri": "https://localhost:8080/",
          "height": 206
        },
        "id": "8-JloNJp4cdQ",
        "outputId": "2c4534d1-75d2-45d0-def0-74a1715bdd0a"
      },
      "execution_count": null,
      "outputs": [
        {
          "output_type": "execute_result",
          "data": {
            "text/plain": [
              "   hora tipo_transacao     valor  saldo_origem_antigo  saldo_origem_novo  \\\n",
              "0     0        PAYMENT   9839.64             170136.0          160296.36   \n",
              "1     0        PAYMENT   1864.28              21249.0           19384.72   \n",
              "2     0       TRANSFER    181.00                181.0               0.00   \n",
              "3     0       CASH_OUT    181.00                181.0               0.00   \n",
              "4     0        PAYMENT  11668.14              41554.0           29885.86   \n",
              "\n",
              "   saldo_destino_antigo  saldo_destino_novo  eh_fraude tipo_destino  \n",
              "0                   0.0                 0.0          0            M  \n",
              "1                   0.0                 0.0          0            M  \n",
              "2                   0.0                 0.0          1            C  \n",
              "3               21182.0                 0.0          1            C  \n",
              "4                   0.0                 0.0          0            M  "
            ],
            "text/html": [
              "\n",
              "  <div id=\"df-52db8c2a-6d81-434e-aed6-1696123c21e9\" class=\"colab-df-container\">\n",
              "    <div>\n",
              "<style scoped>\n",
              "    .dataframe tbody tr th:only-of-type {\n",
              "        vertical-align: middle;\n",
              "    }\n",
              "\n",
              "    .dataframe tbody tr th {\n",
              "        vertical-align: top;\n",
              "    }\n",
              "\n",
              "    .dataframe thead th {\n",
              "        text-align: right;\n",
              "    }\n",
              "</style>\n",
              "<table border=\"1\" class=\"dataframe\">\n",
              "  <thead>\n",
              "    <tr style=\"text-align: right;\">\n",
              "      <th></th>\n",
              "      <th>hora</th>\n",
              "      <th>tipo_transacao</th>\n",
              "      <th>valor</th>\n",
              "      <th>saldo_origem_antigo</th>\n",
              "      <th>saldo_origem_novo</th>\n",
              "      <th>saldo_destino_antigo</th>\n",
              "      <th>saldo_destino_novo</th>\n",
              "      <th>eh_fraude</th>\n",
              "      <th>tipo_destino</th>\n",
              "    </tr>\n",
              "  </thead>\n",
              "  <tbody>\n",
              "    <tr>\n",
              "      <th>0</th>\n",
              "      <td>0</td>\n",
              "      <td>PAYMENT</td>\n",
              "      <td>9839.64</td>\n",
              "      <td>170136.0</td>\n",
              "      <td>160296.36</td>\n",
              "      <td>0.0</td>\n",
              "      <td>0.0</td>\n",
              "      <td>0</td>\n",
              "      <td>M</td>\n",
              "    </tr>\n",
              "    <tr>\n",
              "      <th>1</th>\n",
              "      <td>0</td>\n",
              "      <td>PAYMENT</td>\n",
              "      <td>1864.28</td>\n",
              "      <td>21249.0</td>\n",
              "      <td>19384.72</td>\n",
              "      <td>0.0</td>\n",
              "      <td>0.0</td>\n",
              "      <td>0</td>\n",
              "      <td>M</td>\n",
              "    </tr>\n",
              "    <tr>\n",
              "      <th>2</th>\n",
              "      <td>0</td>\n",
              "      <td>TRANSFER</td>\n",
              "      <td>181.00</td>\n",
              "      <td>181.0</td>\n",
              "      <td>0.00</td>\n",
              "      <td>0.0</td>\n",
              "      <td>0.0</td>\n",
              "      <td>1</td>\n",
              "      <td>C</td>\n",
              "    </tr>\n",
              "    <tr>\n",
              "      <th>3</th>\n",
              "      <td>0</td>\n",
              "      <td>CASH_OUT</td>\n",
              "      <td>181.00</td>\n",
              "      <td>181.0</td>\n",
              "      <td>0.00</td>\n",
              "      <td>21182.0</td>\n",
              "      <td>0.0</td>\n",
              "      <td>1</td>\n",
              "      <td>C</td>\n",
              "    </tr>\n",
              "    <tr>\n",
              "      <th>4</th>\n",
              "      <td>0</td>\n",
              "      <td>PAYMENT</td>\n",
              "      <td>11668.14</td>\n",
              "      <td>41554.0</td>\n",
              "      <td>29885.86</td>\n",
              "      <td>0.0</td>\n",
              "      <td>0.0</td>\n",
              "      <td>0</td>\n",
              "      <td>M</td>\n",
              "    </tr>\n",
              "  </tbody>\n",
              "</table>\n",
              "</div>\n",
              "    <div class=\"colab-df-buttons\">\n",
              "\n",
              "  <div class=\"colab-df-container\">\n",
              "    <button class=\"colab-df-convert\" onclick=\"convertToInteractive('df-52db8c2a-6d81-434e-aed6-1696123c21e9')\"\n",
              "            title=\"Convert this dataframe to an interactive table.\"\n",
              "            style=\"display:none;\">\n",
              "\n",
              "  <svg xmlns=\"http://www.w3.org/2000/svg\" height=\"24px\" viewBox=\"0 -960 960 960\">\n",
              "    <path d=\"M120-120v-720h720v720H120Zm60-500h600v-160H180v160Zm220 220h160v-160H400v160Zm0 220h160v-160H400v160ZM180-400h160v-160H180v160Zm440 0h160v-160H620v160ZM180-180h160v-160H180v160Zm440 0h160v-160H620v160Z\"/>\n",
              "  </svg>\n",
              "    </button>\n",
              "\n",
              "  <style>\n",
              "    .colab-df-container {\n",
              "      display:flex;\n",
              "      gap: 12px;\n",
              "    }\n",
              "\n",
              "    .colab-df-convert {\n",
              "      background-color: #E8F0FE;\n",
              "      border: none;\n",
              "      border-radius: 50%;\n",
              "      cursor: pointer;\n",
              "      display: none;\n",
              "      fill: #1967D2;\n",
              "      height: 32px;\n",
              "      padding: 0 0 0 0;\n",
              "      width: 32px;\n",
              "    }\n",
              "\n",
              "    .colab-df-convert:hover {\n",
              "      background-color: #E2EBFA;\n",
              "      box-shadow: 0px 1px 2px rgba(60, 64, 67, 0.3), 0px 1px 3px 1px rgba(60, 64, 67, 0.15);\n",
              "      fill: #174EA6;\n",
              "    }\n",
              "\n",
              "    .colab-df-buttons div {\n",
              "      margin-bottom: 4px;\n",
              "    }\n",
              "\n",
              "    [theme=dark] .colab-df-convert {\n",
              "      background-color: #3B4455;\n",
              "      fill: #D2E3FC;\n",
              "    }\n",
              "\n",
              "    [theme=dark] .colab-df-convert:hover {\n",
              "      background-color: #434B5C;\n",
              "      box-shadow: 0px 1px 3px 1px rgba(0, 0, 0, 0.15);\n",
              "      filter: drop-shadow(0px 1px 2px rgba(0, 0, 0, 0.3));\n",
              "      fill: #FFFFFF;\n",
              "    }\n",
              "  </style>\n",
              "\n",
              "    <script>\n",
              "      const buttonEl =\n",
              "        document.querySelector('#df-52db8c2a-6d81-434e-aed6-1696123c21e9 button.colab-df-convert');\n",
              "      buttonEl.style.display =\n",
              "        google.colab.kernel.accessAllowed ? 'block' : 'none';\n",
              "\n",
              "      async function convertToInteractive(key) {\n",
              "        const element = document.querySelector('#df-52db8c2a-6d81-434e-aed6-1696123c21e9');\n",
              "        const dataTable =\n",
              "          await google.colab.kernel.invokeFunction('convertToInteractive',\n",
              "                                                    [key], {});\n",
              "        if (!dataTable) return;\n",
              "\n",
              "        const docLinkHtml = 'Like what you see? Visit the ' +\n",
              "          '<a target=\"_blank\" href=https://colab.research.google.com/notebooks/data_table.ipynb>data table notebook</a>'\n",
              "          + ' to learn more about interactive tables.';\n",
              "        element.innerHTML = '';\n",
              "        dataTable['output_type'] = 'display_data';\n",
              "        await google.colab.output.renderOutput(dataTable, element);\n",
              "        const docLink = document.createElement('div');\n",
              "        docLink.innerHTML = docLinkHtml;\n",
              "        element.appendChild(docLink);\n",
              "      }\n",
              "    </script>\n",
              "  </div>\n",
              "\n",
              "\n",
              "    <div id=\"df-caa552f9-7424-4e30-af0f-e960d6496d58\">\n",
              "      <button class=\"colab-df-quickchart\" onclick=\"quickchart('df-caa552f9-7424-4e30-af0f-e960d6496d58')\"\n",
              "                title=\"Suggest charts\"\n",
              "                style=\"display:none;\">\n",
              "\n",
              "<svg xmlns=\"http://www.w3.org/2000/svg\" height=\"24px\"viewBox=\"0 0 24 24\"\n",
              "     width=\"24px\">\n",
              "    <g>\n",
              "        <path d=\"M19 3H5c-1.1 0-2 .9-2 2v14c0 1.1.9 2 2 2h14c1.1 0 2-.9 2-2V5c0-1.1-.9-2-2-2zM9 17H7v-7h2v7zm4 0h-2V7h2v10zm4 0h-2v-4h2v4z\"/>\n",
              "    </g>\n",
              "</svg>\n",
              "      </button>\n",
              "\n",
              "<style>\n",
              "  .colab-df-quickchart {\n",
              "      --bg-color: #E8F0FE;\n",
              "      --fill-color: #1967D2;\n",
              "      --hover-bg-color: #E2EBFA;\n",
              "      --hover-fill-color: #174EA6;\n",
              "      --disabled-fill-color: #AAA;\n",
              "      --disabled-bg-color: #DDD;\n",
              "  }\n",
              "\n",
              "  [theme=dark] .colab-df-quickchart {\n",
              "      --bg-color: #3B4455;\n",
              "      --fill-color: #D2E3FC;\n",
              "      --hover-bg-color: #434B5C;\n",
              "      --hover-fill-color: #FFFFFF;\n",
              "      --disabled-bg-color: #3B4455;\n",
              "      --disabled-fill-color: #666;\n",
              "  }\n",
              "\n",
              "  .colab-df-quickchart {\n",
              "    background-color: var(--bg-color);\n",
              "    border: none;\n",
              "    border-radius: 50%;\n",
              "    cursor: pointer;\n",
              "    display: none;\n",
              "    fill: var(--fill-color);\n",
              "    height: 32px;\n",
              "    padding: 0;\n",
              "    width: 32px;\n",
              "  }\n",
              "\n",
              "  .colab-df-quickchart:hover {\n",
              "    background-color: var(--hover-bg-color);\n",
              "    box-shadow: 0 1px 2px rgba(60, 64, 67, 0.3), 0 1px 3px 1px rgba(60, 64, 67, 0.15);\n",
              "    fill: var(--button-hover-fill-color);\n",
              "  }\n",
              "\n",
              "  .colab-df-quickchart-complete:disabled,\n",
              "  .colab-df-quickchart-complete:disabled:hover {\n",
              "    background-color: var(--disabled-bg-color);\n",
              "    fill: var(--disabled-fill-color);\n",
              "    box-shadow: none;\n",
              "  }\n",
              "\n",
              "  .colab-df-spinner {\n",
              "    border: 2px solid var(--fill-color);\n",
              "    border-color: transparent;\n",
              "    border-bottom-color: var(--fill-color);\n",
              "    animation:\n",
              "      spin 1s steps(1) infinite;\n",
              "  }\n",
              "\n",
              "  @keyframes spin {\n",
              "    0% {\n",
              "      border-color: transparent;\n",
              "      border-bottom-color: var(--fill-color);\n",
              "      border-left-color: var(--fill-color);\n",
              "    }\n",
              "    20% {\n",
              "      border-color: transparent;\n",
              "      border-left-color: var(--fill-color);\n",
              "      border-top-color: var(--fill-color);\n",
              "    }\n",
              "    30% {\n",
              "      border-color: transparent;\n",
              "      border-left-color: var(--fill-color);\n",
              "      border-top-color: var(--fill-color);\n",
              "      border-right-color: var(--fill-color);\n",
              "    }\n",
              "    40% {\n",
              "      border-color: transparent;\n",
              "      border-right-color: var(--fill-color);\n",
              "      border-top-color: var(--fill-color);\n",
              "    }\n",
              "    60% {\n",
              "      border-color: transparent;\n",
              "      border-right-color: var(--fill-color);\n",
              "    }\n",
              "    80% {\n",
              "      border-color: transparent;\n",
              "      border-right-color: var(--fill-color);\n",
              "      border-bottom-color: var(--fill-color);\n",
              "    }\n",
              "    90% {\n",
              "      border-color: transparent;\n",
              "      border-bottom-color: var(--fill-color);\n",
              "    }\n",
              "  }\n",
              "</style>\n",
              "\n",
              "      <script>\n",
              "        async function quickchart(key) {\n",
              "          const quickchartButtonEl =\n",
              "            document.querySelector('#' + key + ' button');\n",
              "          quickchartButtonEl.disabled = true;  // To prevent multiple clicks.\n",
              "          quickchartButtonEl.classList.add('colab-df-spinner');\n",
              "          try {\n",
              "            const charts = await google.colab.kernel.invokeFunction(\n",
              "                'suggestCharts', [key], {});\n",
              "          } catch (error) {\n",
              "            console.error('Error during call to suggestCharts:', error);\n",
              "          }\n",
              "          quickchartButtonEl.classList.remove('colab-df-spinner');\n",
              "          quickchartButtonEl.classList.add('colab-df-quickchart-complete');\n",
              "        }\n",
              "        (() => {\n",
              "          let quickchartButtonEl =\n",
              "            document.querySelector('#df-caa552f9-7424-4e30-af0f-e960d6496d58 button');\n",
              "          quickchartButtonEl.style.display =\n",
              "            google.colab.kernel.accessAllowed ? 'block' : 'none';\n",
              "        })();\n",
              "      </script>\n",
              "    </div>\n",
              "\n",
              "    </div>\n",
              "  </div>\n"
            ],
            "application/vnd.google.colaboratory.intrinsic+json": {
              "type": "dataframe",
              "variable_name": "df"
            }
          },
          "metadata": {},
          "execution_count": 3
        }
      ]
    },
    {
      "cell_type": "code",
      "source": [
        "df.isnull().sum()\n"
      ],
      "metadata": {
        "id": "3S_t548jNsRg",
        "colab": {
          "base_uri": "https://localhost:8080/",
          "height": 366
        },
        "outputId": "b78b84a8-790a-4cb8-eaf4-0e8114cde83b"
      },
      "execution_count": null,
      "outputs": [
        {
          "output_type": "execute_result",
          "data": {
            "text/plain": [
              "hora                    0\n",
              "tipo_transacao          0\n",
              "valor                   0\n",
              "saldo_origem_antigo     0\n",
              "saldo_origem_novo       0\n",
              "saldo_destino_antigo    0\n",
              "saldo_destino_novo      0\n",
              "eh_fraude               0\n",
              "tipo_destino            0\n",
              "dtype: int64"
            ],
            "text/html": [
              "<div>\n",
              "<style scoped>\n",
              "    .dataframe tbody tr th:only-of-type {\n",
              "        vertical-align: middle;\n",
              "    }\n",
              "\n",
              "    .dataframe tbody tr th {\n",
              "        vertical-align: top;\n",
              "    }\n",
              "\n",
              "    .dataframe thead th {\n",
              "        text-align: right;\n",
              "    }\n",
              "</style>\n",
              "<table border=\"1\" class=\"dataframe\">\n",
              "  <thead>\n",
              "    <tr style=\"text-align: right;\">\n",
              "      <th></th>\n",
              "      <th>0</th>\n",
              "    </tr>\n",
              "  </thead>\n",
              "  <tbody>\n",
              "    <tr>\n",
              "      <th>hora</th>\n",
              "      <td>0</td>\n",
              "    </tr>\n",
              "    <tr>\n",
              "      <th>tipo_transacao</th>\n",
              "      <td>0</td>\n",
              "    </tr>\n",
              "    <tr>\n",
              "      <th>valor</th>\n",
              "      <td>0</td>\n",
              "    </tr>\n",
              "    <tr>\n",
              "      <th>saldo_origem_antigo</th>\n",
              "      <td>0</td>\n",
              "    </tr>\n",
              "    <tr>\n",
              "      <th>saldo_origem_novo</th>\n",
              "      <td>0</td>\n",
              "    </tr>\n",
              "    <tr>\n",
              "      <th>saldo_destino_antigo</th>\n",
              "      <td>0</td>\n",
              "    </tr>\n",
              "    <tr>\n",
              "      <th>saldo_destino_novo</th>\n",
              "      <td>0</td>\n",
              "    </tr>\n",
              "    <tr>\n",
              "      <th>eh_fraude</th>\n",
              "      <td>0</td>\n",
              "    </tr>\n",
              "    <tr>\n",
              "      <th>tipo_destino</th>\n",
              "      <td>0</td>\n",
              "    </tr>\n",
              "  </tbody>\n",
              "</table>\n",
              "</div><br><label><b>dtype:</b> int64</label>"
            ]
          },
          "metadata": {},
          "execution_count": 4
        }
      ]
    },
    {
      "cell_type": "markdown",
      "source": [
        "## tranformando valores categóricos para numéricos:\n",
        "Criando uma copia para não auterar fonte, contudo fazendo a tranformação numerica para melhor entendimento da maquina.\n",
        "tipo_transacao\n",
        "    \n",
        "    'CASH_IN': 0,\n",
        "    'CASH_OUT': 1,\n",
        "    'DEBITO': 2,\n",
        "    'PAGAMENTO': 3,\n",
        "    'TRANSFERENCIA': 4\n",
        "\n",
        "\n",
        " tipo_destino\n",
        "\n",
        "    'C': 0,\n",
        "    'M': 1"
      ],
      "metadata": {
        "id": "wIvtDQ0qNVVk"
      }
    },
    {
      "cell_type": "code",
      "source": [
        "from sklearn.preprocessing import LabelEncoder\n",
        "\n",
        "# Criar cópia do dataframe para preservar os dados originais\n",
        "df_encoded = df.copy()\n",
        "\n",
        "# 1. Codificar tipo_transacao\n",
        "encoder_transacao = LabelEncoder()\n",
        "df_encoded['tipo_transacao'] = encoder_transacao.fit_transform(df_encoded['tipo_transacao'])\n",
        "\n",
        "# Obter mapeamento\n",
        "mapeamento_transacao = dict(zip(encoder_transacao.classes_, encoder_transacao.transform(encoder_transacao.classes_)))\n",
        "print(\"\\nMapeamento para 'tipo_transacao':\", mapeamento_transacao)\n",
        "\n",
        "# 2. Codificar tipo_destino\n",
        "encoder_destino = LabelEncoder()\n",
        "df_encoded['tipo_destino'] = encoder_destino.fit_transform(df_encoded['tipo_destino'].astype(str))  # Garantir que seja string\n",
        "\n",
        "# Obter mapeamento\n",
        "mapeamento_destino = dict(zip(encoder_destino.classes_, encoder_destino.transform(encoder_destino.classes_)))\n",
        "print(\"Mapeamento para 'tipo_destino':\", mapeamento_destino)\n",
        "\n",
        "# 3. Tratar valores NaN restantes\n",
        "df_encoded = df_encoded.fillna({\n",
        "    'valor': 0,\n",
        "    'saldo_destino_antigo': 0,\n",
        "    'saldo_destino_novo': 0\n",
        "})\n",
        "df_encoded = df_encoded.fillna(0)  # Preenche quaisquer NaNs restantes no dataframe\n",
        "\n",
        "# 4. Verificar resultado\n",
        "print(\"\\nDataFrame após transformação:\")\n",
        "print(df_encoded[['tipo_transacao', 'tipo_destino']].head())\n",
        "\n",
        "print(\"\\nTipos de dados finais:\")\n",
        "print(df_encoded.dtypes)\n"
      ],
      "metadata": {
        "colab": {
          "base_uri": "https://localhost:8080/"
        },
        "id": "rCM1noJiAWMF",
        "outputId": "ca4b314f-9498-406b-ead8-3a35bef9e0d2"
      },
      "execution_count": null,
      "outputs": [
        {
          "output_type": "stream",
          "name": "stdout",
          "text": [
            "\n",
            "Mapeamento para 'tipo_transacao': {'CASH_IN': np.int64(0), 'CASH_OUT': np.int64(1), 'DEBIT': np.int64(2), 'PAYMENT': np.int64(3), 'TRANSFER': np.int64(4)}\n",
            "Mapeamento para 'tipo_destino': {'C': np.int64(0), 'M': np.int64(1)}\n",
            "\n",
            "DataFrame após transformação:\n",
            "   tipo_transacao  tipo_destino\n",
            "0               3             1\n",
            "1               3             1\n",
            "2               4             0\n",
            "3               1             0\n",
            "4               3             1\n",
            "\n",
            "Tipos de dados finais:\n",
            "hora                      int64\n",
            "tipo_transacao            int64\n",
            "valor                   float64\n",
            "saldo_origem_antigo     float64\n",
            "saldo_origem_novo       float64\n",
            "saldo_destino_antigo    float64\n",
            "saldo_destino_novo      float64\n",
            "eh_fraude                 int64\n",
            "tipo_destino              int64\n",
            "dtype: object\n"
          ]
        }
      ]
    },
    {
      "cell_type": "code",
      "source": [
        "print(df_encoded)"
      ],
      "metadata": {
        "colab": {
          "base_uri": "https://localhost:8080/"
        },
        "id": "xWR0Lms3iGwZ",
        "outputId": "aa213702-4818-451d-9ee6-3869fc3269c2"
      },
      "execution_count": 22,
      "outputs": [
        {
          "output_type": "stream",
          "name": "stdout",
          "text": [
            "         hora  tipo_transacao      valor  saldo_origem_antigo  \\\n",
            "0           0               3    9839.64             170136.0   \n",
            "1           0               3    1864.28              21249.0   \n",
            "2           0               4     181.00                181.0   \n",
            "3           0               1     181.00                181.0   \n",
            "4           0               3   11668.14              41554.0   \n",
            "...       ...             ...        ...                  ...   \n",
            "5206700     0               1  307859.57              58819.0   \n",
            "5206701     0               1  259841.66             338636.0   \n",
            "5206702     0               3    8041.75              12543.0   \n",
            "5206703     0               0   20718.30             185886.0   \n",
            "5206704     0               3   23051.57               6057.0   \n",
            "\n",
            "         saldo_origem_novo  saldo_destino_antigo  saldo_destino_novo  \\\n",
            "0                160296.36                  0.00                0.00   \n",
            "1                 19384.72                  0.00                0.00   \n",
            "2                     0.00                  0.00                0.00   \n",
            "3                     0.00              21182.00                0.00   \n",
            "4                 29885.86                  0.00                0.00   \n",
            "...                    ...                   ...                 ...   \n",
            "5206700               0.00             260180.09           568039.66   \n",
            "5206701           78794.34            3635853.94          3895695.60   \n",
            "5206702            4501.25                  0.00                0.00   \n",
            "5206703          206604.30             408940.10           388221.80   \n",
            "5206704               0.00                  0.00                0.00   \n",
            "\n",
            "         eh_fraude  tipo_destino  \n",
            "0                0             1  \n",
            "1                0             1  \n",
            "2                1             0  \n",
            "3                1             0  \n",
            "4                0             1  \n",
            "...            ...           ...  \n",
            "5206700          0             0  \n",
            "5206701          0             0  \n",
            "5206702          0             1  \n",
            "5206703          0             0  \n",
            "5206704          0             1  \n",
            "\n",
            "[5206705 rows x 9 columns]\n"
          ]
        }
      ]
    },
    {
      "cell_type": "markdown",
      "source": [
        "### Processo de Partição de Dados:\n",
        "Definindo as Features e label para testes e treinos."
      ],
      "metadata": {
        "id": "hsIR8LOIdFtw"
      }
    },
    {
      "cell_type": "code",
      "source": [
        "X = df_encoded.drop('eh_fraude', axis=1)\n",
        "y = df_encoded['eh_fraude']\n",
        "# Importar Método para Separar os dados em treino e teste\n",
        "from sklearn.model_selection import train_test_split\n",
        "# Aui estamos definindo 20% dos dados para teste e  80% para treino\n",
        "X_train, X_test, y_train, y_test = train_test_split(X, y, test_size=0.2, random_state=42)\n",
        "print(X_train.shape)\n",
        "print(X_test.shape)\n",
        "print(y_train.shape)\n",
        "print(y_test.shape)"
      ],
      "metadata": {
        "colab": {
          "base_uri": "https://localhost:8080/"
        },
        "id": "HF7w3Wxs6SK_",
        "outputId": "fbd9de51-9ab0-49a9-fa9b-63d65a1ec9df"
      },
      "execution_count": null,
      "outputs": [
        {
          "output_type": "stream",
          "name": "stdout",
          "text": [
            "(4165364, 8)\n",
            "(1041341, 8)\n",
            "(4165364,)\n",
            "(1041341,)\n"
          ]
        }
      ]
    },
    {
      "cell_type": "code",
      "source": [
        "print(y_train.value_counts())\n"
      ],
      "metadata": {
        "colab": {
          "base_uri": "https://localhost:8080/"
        },
        "id": "9NAJk-8Gi_LL",
        "outputId": "3d82f3fe-d58f-4e61-a612-ca69683136a5"
      },
      "execution_count": null,
      "outputs": [
        {
          "output_type": "stream",
          "name": "stdout",
          "text": [
            "eh_fraude\n",
            "0    4162055\n",
            "1       3309\n",
            "Name: count, dtype: int64\n"
          ]
        }
      ]
    },
    {
      "cell_type": "code",
      "source": [
        "from sklearn.linear_model import LogisticRegression\n",
        "from sklearn.tree import DecisionTreeClassifier\n",
        "from sklearn.metrics import classification_report, confusion_matrix\n",
        "\n",
        "# === Modelo 1: Regressão Logística ===\n",
        "lr_model = LogisticRegression(max_iter=1000)\n",
        "lr_model.fit(X_train, y_train)\n",
        "lr_preds = lr_model.predict(X_test)\n",
        "\n",
        "# === Modelo 2: Árvore de Decisão ===\n",
        "dt_model = DecisionTreeClassifier(random_state=42)\n",
        "dt_model.fit(X_train, y_train)\n",
        "dt_preds = dt_model.predict(X_test)\n",
        "\n",
        "# === Avaliação dos modelos ===\n",
        "print(\"=== Regressão Logística ===\")\n",
        "print(classification_report(y_test, lr_preds))\n",
        "print(confusion_matrix(y_test, lr_preds))\n",
        "\n",
        "print(\"\\n=== Árvore de Decisão ===\")\n",
        "print(classification_report(y_test, dt_preds))\n",
        "print(confusion_matrix(y_test, dt_preds))\n"
      ],
      "metadata": {
        "colab": {
          "base_uri": "https://localhost:8080/"
        },
        "id": "fbiiwbJP4yMO",
        "outputId": "cbfea4a0-fe25-44b9-cc3c-fcfa7ff18115"
      },
      "execution_count": null,
      "outputs": [
        {
          "output_type": "stream",
          "name": "stdout",
          "text": [
            "=== Regressão Logística ===\n",
            "              precision    recall  f1-score   support\n",
            "\n",
            "           0       1.00      1.00      1.00   1040529\n",
            "           1       0.89      0.45      0.60       812\n",
            "\n",
            "    accuracy                           1.00   1041341\n",
            "   macro avg       0.94      0.73      0.80   1041341\n",
            "weighted avg       1.00      1.00      1.00   1041341\n",
            "\n",
            "[[1040483      46]\n",
            " [    444     368]]\n",
            "\n",
            "=== Árvore de Decisão ===\n",
            "              precision    recall  f1-score   support\n",
            "\n",
            "           0       1.00      1.00      1.00   1040529\n",
            "           1       0.85      0.88      0.86       812\n",
            "\n",
            "    accuracy                           1.00   1041341\n",
            "   macro avg       0.92      0.94      0.93   1041341\n",
            "weighted avg       1.00      1.00      1.00   1041341\n",
            "\n",
            "[[1040402     127]\n",
            " [    101     711]]\n"
          ]
        }
      ]
    },
    {
      "cell_type": "markdown",
      "source": [
        "### Conclusão:"
      ],
      "metadata": {
        "id": "XSTOPBOL7b57"
      }
    },
    {
      "cell_type": "code",
      "source": [
        "from sklearn.linear_model import LogisticRegression\n",
        "from sklearn.tree import DecisionTreeClassifier\n",
        "# Importar accuracy_score juntamente com as outras métricas\n",
        "from sklearn.metrics import classification_report, confusion_matrix, accuracy_score\n",
        "\n",
        "# Listas para armazenar os resultados\n",
        "acuracia_logistica = []\n",
        "acuracia_arvore = []\n",
        "\n",
        "# Repetições para validar robustez\n",
        "for i in range(30):\n",
        "    X_train, X_test, y_train, y_test = train_test_split(X, y, test_size=0.2)\n",
        "\n",
        "    # Modelo 1: Regressão Logística\n",
        "    modelo_log = LogisticRegression(max_iter=1000)\n",
        "    modelo_log.fit(X_train, y_train)\n",
        "    pred_log = modelo_log.predict(X_test)\n",
        "    acuracia_log = accuracy_score(y_test, pred_log)\n",
        "    acuracia_logistica.append(acuracia_log)\n",
        "\n",
        "    # Modelo 2: Árvore de Decisão\n",
        "    modelo_tree = DecisionTreeClassifier(random_state=42)\n",
        "    modelo_tree.fit(X_train, y_train)\n",
        "    pred_tree = modelo_tree.predict(X_test)\n",
        "    acuracia_tree = accuracy_score(y_test, pred_tree)\n",
        "    acuracia_arvore.append(acuracia_tree)\n",
        "\n",
        ""
      ],
      "metadata": {
        "colab": {
          "base_uri": "https://localhost:8080/"
        },
        "id": "9Q2-XEAi8C2q",
        "outputId": "53750e9b-761f-43a9-bc82-f41915b1972c"
      },
      "execution_count": null,
      "outputs": [
        {
          "output_type": "stream",
          "name": "stdout",
          "text": [
            "Acurácia Média - Regressão Logística: 0.9994907207789443\n",
            "Acurácia Média - Árvore de Decisão: 0.9997754177866167\n"
          ]
        }
      ]
    },
    {
      "cell_type": "code",
      "source": [
        "# Resultados finais\n",
        "print(\"Acurácia Média - Regressão Logística:\", np.mean(acuracia_logistica))\n",
        "print(\"Acurácia Média - Árvore de Decisão:\", np.mean(acuracia_arvore))"
      ],
      "metadata": {
        "colab": {
          "base_uri": "https://localhost:8080/"
        },
        "id": "Nb74u4_AQeTA",
        "outputId": "be2feeff-b9e7-42b5-e2dc-752730f3fbbf"
      },
      "execution_count": null,
      "outputs": [
        {
          "output_type": "stream",
          "name": "stdout",
          "text": [
            "Acurácia Média - Regressão Logística: 0.9994907207789443\n",
            "Acurácia Média - Árvore de Decisão: 0.9997754177866167\n"
          ]
        }
      ]
    },
    {
      "cell_type": "code",
      "source": [
        "import pickle\n",
        "\n",
        "# Supondo que o modelo já foi treinado:\n",
        "modelo_log = LogisticRegression(max_iter=1000)\n",
        "modelo_log.fit(X_train, y_train)\n",
        "\n",
        "# Salvar o modelo treinado em um arquivo .pkl\n",
        "with open('../IA_compet/modelo_regressao_logistica.pkl', 'wb') as arquivo:\n",
        "    pickle.dump(modelo_log, arquivo)\n",
        "\n",
        "print(\"✅ Modelo salvo com sucesso em: ../IA_compet/modelo_regressao_logistica.pkl\")\n",
        "\n"
      ],
      "metadata": {
        "colab": {
          "base_uri": "https://localhost:8080/"
        },
        "id": "yNreJT4jQU5j",
        "outputId": "b4f28526-b143-4c81-fe41-00a269645aae"
      },
      "execution_count": 38,
      "outputs": [
        {
          "output_type": "stream",
          "name": "stdout",
          "text": [
            "✅ Modelo salvo com sucesso em: ../IA_compet/modelo_regressao_logistica.pkl\n"
          ]
        }
      ]
    },
    {
      "cell_type": "code",
      "source": [
        "from google.colab import drive\n",
        "drive.mount('/content/drive')"
      ],
      "metadata": {
        "id": "IO0ZplQ1e-oO"
      },
      "execution_count": null,
      "outputs": []
    },
    {
      "cell_type": "code",
      "source": [
        "%%capture\n",
        "!pip install gradio  # Instalação sem nenhuma saída\n",
        "import gradio as gr   # Importação normal\n"
      ],
      "metadata": {
        "id": "tSyM2JHztOeG"
      },
      "execution_count": 24,
      "outputs": []
    },
    {
      "cell_type": "code",
      "source": [
        "\n",
        "import pickle\n",
        "import pandas as pd\n",
        "\n",
        "# Carregar o modelo\n",
        "with open('../IA_compet/modelo_regressao_logistica.pkl', 'rb') as f:\n",
        "    modelo = pickle.load(f)\n",
        "\n",
        "# Colunas usadas durante o treinamento\n",
        "colunas_modelo = ['hora', 'tipo_transacao', 'valor',\n",
        "                  'saldo_origem_antigo', 'saldo_origem_novo', 'saldo_destino_antigo', 'saldo_destino_novo', 'tipo_destino']"
      ],
      "metadata": {
        "id": "pqu8j7RxssIW"
      },
      "execution_count": 39,
      "outputs": []
    }
  ]
}