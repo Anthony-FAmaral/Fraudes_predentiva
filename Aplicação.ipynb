{
  "nbformat": 4,
  "nbformat_minor": 0,
  "metadata": {
    "colab": {
      "provenance": []
    },
    "kernelspec": {
      "name": "python3",
      "display_name": "Python 3"
    },
    "language_info": {
      "name": "python"
    }
  },
  "cells": [
    {
      "cell_type": "code",
      "source": [],
      "metadata": {
        "id": "i7ZWVacod2BE"
      },
      "execution_count": null,
      "outputs": []
    },
    {
      "cell_type": "code",
      "source": [
        "%%capture\n",
        "!pip install gradio  # Instalação sem nenhuma saída\n",
        "import gradio as gr   # Importação normal\n",
        "\n",
        "# Seu código continua aqui...\n"
      ],
      "metadata": {
        "id": "vY_v-CKOVPgb"
      },
      "execution_count": null,
      "outputs": []
    },
    {
      "cell_type": "code",
      "execution_count": null,
      "metadata": {
        "id": "QCMhWoxUTToL"
      },
      "outputs": [],
      "source": [
        "\n",
        "import pickle\n",
        "import pandas as pd\n",
        "\n",
        "# Carregar o modelo\n",
        "with open('modelo_regressao_logistica.pkl', 'rb') as f:\n",
        "    modelo = pickle.load(f)\n",
        "\n",
        "# Colunas usadas durante o treinamento\n",
        "colunas_modelo = ['hora', 'tipo_transacao', 'valor',\n",
        "                  'saldo_origem_antigo', 'saldo_origem_novo', 'saldo_destino_antigo', 'saldo_destino_novo', 'tipo_destino']"
      ]
    },
    {
      "cell_type": "code",
      "source": [
        "from google.colab import drive\n",
        "drive.mount('/content/drive')"
      ],
      "metadata": {
        "id": "5bdvVWiC4hCg"
      },
      "execution_count": null,
      "outputs": []
    },
    {
      "cell_type": "code",
      "source": [
        "def prever_fraude(hora, tipo_transacao, valor, tipo_destino):\n",
        "    # Dicionários de mapeamento\n",
        "    map_tipo_transacao = {\n",
        "        'CASH_IN': 0,\n",
        "        'CASH_OUT': 1,\n",
        "        'DEBITO': 2,\n",
        "        'PAGAMENTO': 3,\n",
        "        'TRANSFERENCIA': 4\n",
        "    }  # Remova a vírgula aqui!\n",
        "\n",
        "    map_tipo_destino = {\n",
        "        'C': 0,\n",
        "        'M': 1\n",
        "    }\n",
        "\n",
        "    # Valores fixos para saldos (ajuste conforme sua lógica)\n",
        "    saldo_origem_antigo = 1000  # Exemplo\n",
        "    saldo_origem_novo = 900      # Exemplo\n",
        "    saldo_destino_antigo = 500   # Exemplo\n",
        "    saldo_destino_novo = 600     # Exemplo\n",
        "\n",
        "    # Criação do DataFrame\n",
        "    dados = pd.DataFrame({\n",
        "        'hora': [int(hora)],\n",
        "        'tipo_transacao': [map_tipo_transacao[tipo_transacao]],\n",
        "        'valor': [float(valor)],\n",
        "        'saldo_origem_antigo': [saldo_origem_antigo],\n",
        "        'saldo_origem_novo': [saldo_origem_novo],\n",
        "        'saldo_destino_antigo': [saldo_destino_antigo],\n",
        "        'saldo_destino_novo': [saldo_destino_novo],\n",
        "        'tipo_destino': [map_tipo_destino[tipo_destino]]\n",
        "    })\n",
        "\n",
        "    # Predição\n",
        "    predicao = modelo.predict(dados)[0]\n",
        "    return \"🚨 Fraude detectada!\" if predicao == 1 else \"✅ Transação segura\"\n"
      ],
      "metadata": {
        "id": "kaoeUmlUl8Hl"
      },
      "execution_count": null,
      "outputs": []
    },
    {
      "cell_type": "code",
      "source": [
        "def prever_fraude(hora, tipo_transacao, valor, tipo_destino):\n",
        "    try:\n",
        "        # Mapeamentos\n",
        "        map_tipo_transacao = {'CASH_IN':0, 'CASH_OUT':1, 'DEBITO':2, 'PAGAMENTO':3, 'TRANSFERENCIA':4}\n",
        "        map_tipo_destino = {'C':0, 'M':1}\n",
        "\n",
        "        # Valores fixos (substitua por lógica real!)\n",
        "        saldo_origem_antigo = 1000\n",
        "        saldo_origem_novo = 900\n",
        "        saldo_destino_antigo = 500\n",
        "        saldo_destino_novo = 600\n",
        "\n",
        "        # DataFrame\n",
        "        dados = pd.DataFrame([{\n",
        "            'hora': int(hora),\n",
        "            'tipo_transacao': map_tipo_transacao[tipo_transacao],\n",
        "            'valor': float(valor),\n",
        "            'saldo_origem_antigo': saldo_origem_antigo,\n",
        "            'saldo_origem_novo': saldo_origem_novo,\n",
        "            'saldo_destino_antigo': saldo_destino_antigo,\n",
        "            'saldo_destino_novo': saldo_destino_novo,\n",
        "            'tipo_destino': map_tipo_destino[tipo_destino]\n",
        "        }])\n",
        "\n",
        "        # Predição\n",
        "        predicao = modelo.predict(dados)[0]\n",
        "        return \"🚨 Fraude detectada!\" if predicao == 1 else \"✅ Transação segura\"\n",
        "\n",
        "    except Exception as e:\n",
        "        return f\"Erro: {str(e)}\""
      ],
      "metadata": {
        "id": "ZytnhhxEmHi-"
      },
      "execution_count": null,
      "outputs": []
    },
    {
      "cell_type": "code",
      "source": [
        "import gradio as gr  # Importa a biblioteca Gradio para criar interfaces gráficas simples em Python\n",
        "\n",
        "# Definir opções para campos categóricos\n",
        "opcoes_transacao = [\"CASH_IN\", \"CASH_OUT\", \"DEBITO\", \"PAGAMENTO\", \"TRANSFERENCIA\"]  # Tipos de transação\n",
        "opcoes_destino = [\"C\", \"M\"]  # Tipos de conta destino\n",
        "\n",
        "# Criar a interface com o Gradio usando blocos\n",
        "with gr.Blocks() as app:\n",
        "    gr.Markdown(\"# Detecção de Fraudes em Transações\")  # Título da interface\n",
        "\n",
        "    # Primeira linha com hora e tipo de transação\n",
        "    with gr.Row():\n",
        "        hora = gr.Number(label=\"Hora da Transação (0-23)\", value=12)  # Campo numérico para hora\n",
        "        tipo_transacao = gr.Dropdown(opcoes_transacao, label=\"Tipo de Transação\")  # Seleção de transação\n",
        "\n",
        "    # Segunda linha com valor e tipo de destino\n",
        "    with gr.Row():\n",
        "        valor = gr.Number(label=\"Valor (R$)\", value=1000)  # Campo para valor\n",
        "        tipo_destino = gr.Dropdown(opcoes_destino, label=\"Conta de Destino\")  # Seleção de destino\n",
        "\n",
        "    # Terceira linha com saldos (exemplo fixo)\n",
        "    with gr.Row():\n",
        "        saldo_origem_antigo = gr.Number(label=\"Saldo Origem Antigo\", value=1000, visible=False)  # Oculto\n",
        "        saldo_origem_novo = gr.Number(label=\"Saldo Origem Novo\", value=900, visible=False)  # Oculto\n",
        "        saldo_destino_antigo = gr.Number(label=\"Saldo Destino Antigo\", value=500, visible=False)  # Oculto\n",
        "        saldo_destino_novo = gr.Number(label=\"Saldo Destino Novo\", value=600, visible=False)  # Oculto\n",
        "\n",
        "    # Botão de previsão\n",
        "    btn = gr.Button(\"Analisar Transação\")\n",
        "\n",
        "    # Campo de saída (label)\n",
        "    output = gr.Label(label=\"Resultado da Análise\")\n",
        "\n",
        "    # Define o que acontece ao clicar no botão\n",
        "    btn.click(\n",
        "        fn=prever_fraude,  # Função de predição de fraudes\n",
        "        inputs=[hora, tipo_transacao, valor, tipo_destino],\n",
        "        outputs=output\n",
        "    )\n",
        "\n",
        "# Inicia a aplicação com um link compartilhável\n",
        "app.launch(share=True)"
      ],
      "metadata": {
        "colab": {
          "base_uri": "https://localhost:8080/",
          "height": 591
        },
        "id": "AEPUrgEP4Vip",
        "outputId": "df362d96-694c-4f60-a0d7-0e3213212b65"
      },
      "execution_count": null,
      "outputs": [
        {
          "output_type": "stream",
          "name": "stdout",
          "text": [
            "Colab notebook detected. To show errors in colab notebook, set debug=True in launch()\n",
            "* Running on public URL: https://66234f2d68e4e42cb1.gradio.live\n",
            "\n",
            "This share link expires in 1 week. For free permanent hosting and GPU upgrades, run `gradio deploy` from the terminal in the working directory to deploy to Hugging Face Spaces (https://huggingface.co/spaces)\n"
          ]
        },
        {
          "output_type": "display_data",
          "data": {
            "text/plain": [
              "<IPython.core.display.HTML object>"
            ],
            "text/html": [
              "<div><iframe src=\"https://66234f2d68e4e42cb1.gradio.live\" width=\"100%\" height=\"500\" allow=\"autoplay; camera; microphone; clipboard-read; clipboard-write;\" frameborder=\"0\" allowfullscreen></iframe></div>"
            ]
          },
          "metadata": {}
        },
        {
          "output_type": "execute_result",
          "data": {
            "text/plain": []
          },
          "metadata": {},
          "execution_count": 55
        }
      ]
    }
  ]
}